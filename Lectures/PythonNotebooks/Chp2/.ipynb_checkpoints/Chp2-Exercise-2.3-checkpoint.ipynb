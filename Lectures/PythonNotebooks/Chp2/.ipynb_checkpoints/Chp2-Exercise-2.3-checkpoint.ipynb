{
 "cells": [
  {
   "cell_type": "markdown",
   "metadata": {},
   "source": [
    "# Chapter 2: Exercise 2.3\n",
    "\n",
    "Consider the two-point BVP \n",
    "$$\n",
    "\\large -u'' = f, \\ x\\in (a,b), \\ u(a)=0=u(b).\n",
    "$$\n",
    "Find the Green's function $G=G(x,y)$ such that the solution to the BVP can be written compactly as\n",
    "$$\n",
    "\\large u(x) = \\int_a^b G(x,y)f(y)\\, dy.\n",
    "$$\n",
    "Use this representation to compute solutions to the BVP when\n",
    "\n",
    "(a) $f(x) = 1$\n",
    "\n",
    "(b) $f(x) = x$\n",
    "\n",
    "(c) $f(x) = x^2$"
   ]
  },
  {
   "cell_type": "markdown",
   "metadata": {},
   "source": [
    "## So what is a Green's functions exactly?\n",
    "\n",
    "The Wiki article https://en.wikipedia.org/wiki/Green's_function contains some useful information, but perhaps the most useful part of the article comes in the motivation where it states (edits and emphasis are my own):\n",
    "\n",
    "> Thus, one may obtain the function u(x) through knowledge of the Green's function ... and the [data]. This process relies upon the linearity of the [differential] operator ...\n",
    "\n",
    "> In other words, the solution ..., u(x), can be determined by ... integration ... Although f (x) is known, this integration cannot be performed unless G is also known. The problem now lies in finding the Green's function G ... For this reason, the Green's function is also sometimes called the ***fundamental solution*** ...\n",
    "\n",
    "> ***Not every [differential] operator*** ... ***admits a Green's function***. A Green's function can also be thought of as a ***right inverse of [the differential operator]***. Aside from the difficulties of finding a Green's function for a particular operator, the integral [for computing u(x)] may be quite difficult to evaluate. However the method gives a theoretically exact result.\n",
    "\n",
    "The integral used to compute $u(x)=\\int_a^b G(x,y)f(y)\\, dy$ in fact reveals something else about the Green's function $G(x,y)$. \n",
    "Specifically, the value of the solution $u$ at the point $x$ is determined by a type of ***weighted sum*** of the data $f$ over the interval $[a,b]$.\n",
    "In a sense, $G(x,y)$ is indicating how the value of the data $f$ at the point $y$ is influencing the solution $u$ at the point $x$. \n",
    "\n",
    "This can be described in more plain terms using a specific application for which this particular BVP above is a model.\n",
    "Consider an elastic bar of length $b-a$ and uniform stiffness $1$ that is positioned horizontally with both ends clamped so that they cannot move to an external force applied to the bar.\n",
    "Application of a force in the vertical direction causes a bending of the bar with vertical displacement modeled by the above BVP.\n",
    "Suppose the force $f$ is given by\n",
    "$$\n",
    "\\large d_{y,\\Delta x}(x) = \\left\\{\\begin{array}{rr}\n",
    "                                    \\frac{x-y+\\Delta x}{(\\Delta x)^2}, & -\\Delta x + y < x < y, \\\\\n",
    "                                    -\\frac{x-y-\\Delta x}{(\\Delta x)^2}, & y \\leq x < y+\\Delta x, \\\\\n",
    "                                    0, & \\text{else}.\n",
    "                                  \\end{array}\n",
    "                           \\right.\n",
    "$$\n",
    "We show some plots of $d_{y,\\Delta x}(x)$ below for $a=0$, $b=1$, $\\Delta x = 0.1$ and $y=0.2, 0.5,$ and $0.7$."
   ]
  },
  {
   "cell_type": "code",
   "execution_count": 1,
   "metadata": {
    "collapsed": true
   },
   "outputs": [],
   "source": [
    "import numpy as np\n",
    "%matplotlib inline  \n",
    "import matplotlib.pyplot as plt"
   ]
  },
  {
   "cell_type": "code",
   "execution_count": 2,
   "metadata": {
    "collapsed": false
   },
   "outputs": [
    {
     "data": {
      "image/png": "[encoded data removed]",
      "text/plain": [
       "<matplotlib.figure.Figure at 0x6ec5f98>"
      ]
     },
     "metadata": {},
     "output_type": "display_data"
    }
   ],
   "source": [
    "def d_y(x,y,delta_x):\n",
    "    if (-delta_x + y) < x < y:\n",
    "        z = (x-y+delta_x)/(delta_x**2)\n",
    "    elif (y <= x < y + delta_x):\n",
    "        z = -(x-y-delta_x)/(delta_x**2)\n",
    "    else:\n",
    "        z = 0\n",
    "    return z\n",
    "\n",
    "delta_x = 0.1\n",
    "y = [0.2,0.5,0.7]\n",
    "num_pts = 50\n",
    "x_mesh = np.linspace(0,1,num_pts+1)\n",
    "f = np.zeros(num_pts+1)\n",
    "for y in y:\n",
    "    for i in range(0,num_pts+1):\n",
    "        f[i] = d_y(x_mesh[i],y,delta_x)\n",
    "    plt.plot(x_mesh,f)"
   ]
  },
  {
   "cell_type": "markdown",
   "metadata": {},
   "source": [
    "Using equations for the area of a triangle, we clearly see that $\\int_a^b d_{y,\\Delta x}(x) \\, dx = 1$ (assuming we did not choose $y$ too close to the boundary of $[a,b]$ which might truncate the support of this function).\n",
    "\n",
    "Now, with such a forcing function (based on choosing an appropriate $y$ and $\\Delta x$), we have that\n",
    "$$\n",
    "    \\begin{eqnarray}\n",
    "        u(x) &=& \\int_a^b G(x,y) d_{y,\\Delta x}(x)\\, dy \\\\\n",
    "             &=& \\int_{y-\\Delta x}^{y+\\Delta x} G(x,y) d_{y,\\Delta x}(x) \\, dy.\n",
    "    \\end{eqnarray}\n",
    "$$\n",
    "Assuming that $G$ is also continuous, the integral mean value theorem implies there exists some $c\\in(y-\\Delta x, y+\\Delta x)$ such that \n",
    "$$\n",
    "    u(x) = G(x,c)d_{y,\\Delta x}(c)(2\\Delta x).\n",
    "$$\n",
    "Since $\\int_a^b d_{y,\\Delta x}(x)\\, dx = 1$, we expect that for sufficiently small $\\Delta x$ that $d_{y,\\Delta x}(c)(2\\Delta x)\\approx 1$ (again by the integral mean value theorem). \n",
    "Moreover, for small $\\Delta x$, $c\\approx y$.\n",
    "Thus, for sufficiently small $\\Delta x$, we expect that\n",
    "$$\n",
    "    u(x) \\approx G(x,y).\n",
    "$$\n",
    "In other words, the Green's function describes how the bar bends at point $x$ due to a very localized unit force applied to the bar at point $y$. \n",
    "\n",
    "This suggests taking the limit as $\\Delta x\\downarrow 0$ of $d_{y,\\Delta x}(x)$ and defining the limit function as $\\delta_y(x)$, or simply as $\\delta(x-y)$, which by pointwise limits appears to have the properties that\n",
    "$$\n",
    "    \\delta(x-y)=0, \\ \\text{ if } x\\neq y \\Rightarrow \\delta(x) = 0, \\ \\text{ if } x\\neq 0,\n",
    "$$\n",
    "and\n",
    "$$\n",
    "    \\delta(x-y) = \\infty, \\ \\text{ if } x= y \\Rightarrow \\delta(x) = 0, \\ \\text{ if } x\\neq 0,\n",
    "$$\n",
    "and by the above integral approximations should also possess the properties that\n",
    "$$\n",
    "    \\int_a^b \\delta(x-y)\\, dx = \\left\\{\\begin{array}{rr}\n",
    "                                        1, & \\text{if } y\\in[a,b],\\\\\n",
    "                                        0, & \\text{if } y\\notin[a,b],\n",
    "                                        \\end{array}\n",
    "                                 \\right.\n",
    "$$\n",
    "and, for continuous functions $g$ on $[a,b]$, \n",
    "$$\n",
    "    \\int_a^b g(x)\\delta(x-y)\\, dx = \\left\\{\\begin{array}{rr}\n",
    "                                        g(y), & \\text{if } y\\in[a,b],\\\\\n",
    "                                        0, & \\text{if } y\\notin[a,b].\n",
    "                                        \\end{array}\n",
    "                                 \\right.\n",
    "$$\n",
    "Of course, no such function can have these properties. \n",
    "Nonetheless, we refer to this $\\delta$ as the Dirac delta function (see https://en.wikipedia.org/wiki/Dirac_delta_function), which is a type of *generalized* function where all the formal properties above are made quite rigorous using the theory of ***distributions*** (see https://en.wikipedia.org/wiki/Distribution_(mathematics)).\n",
    "However, this topic is beyond the scope of this course (it is best studied in a more advanced PDEs or special topics course after taking functional analysis).\n",
    "Therefore, we will simply use this Dirac delta function and all of its properties to derive formal solutions, Green's functions, etc. with the comforting knowledge that everything is somehow justified (similar to how we will use Fourier series later in the course)."
   ]
  },
  {
   "cell_type": "markdown",
   "metadata": {},
   "source": [
    "## Determining the Green's function.\n",
    "\n",
    "We solve \n",
    "$$\n",
    "\\large -u'' = \\delta(x-y), \\ x\\in(a,b), \\ u(a)=0=u(b)\n",
    "$$\n",
    "where $y\\in(a,b)$ and $\\delta$ denotes the Dirac delta function. \n",
    "This solution determines the Green's function $G(x,y)$.\n",
    "\n",
    "When $x\\neq y$, $\\delta(x-y)=0$, and the fundamental set of solutions to the ODE is given by\n",
    "$$\n",
    " \\large   \\{1, x\\}. \n",
    "$$\n",
    "\n",
    "Let $u^-(x)$ denote the part of the solution for $x<y$ and $u^+(x)$ denote the part of the solution for $x>y$. \n",
    "\n",
    "Then, we have that\n",
    "$$\n",
    " \\large u^-(x) = c_1 + c_2x,\n",
    "$$\n",
    "and\n",
    "$$\n",
    "\\large u^+(x) = c_3 + c_4x,\n",
    "$$\n",
    "where $c_1,c_2,c_3, $ and $c_4$ are constants. \n",
    "\n",
    "We use the following four conditions to setup a linear system of equations to determine the constants:\n",
    "\n",
    "(1) $u^-(a) = 0$\n",
    "\n",
    "(2) $u^+(b) = 0$\n",
    "\n",
    "(3) $u^-(y) = u^+(y)$\n",
    "\n",
    "(4) $(u^+)'(y) - (u^-)'(y) = -1$\n",
    "\n",
    "These conditions yield the following system of equations\n",
    "\n",
    "$$\n",
    "    \\left\\{\n",
    "        \\begin{array}{rrrrrrrrrr}\n",
    "            c_1 &+& ac_2 & &  & &   &=& 0, \\\\\n",
    "            c_1 &+& yc_2 &-& c_3 &-& yc_4 &=& 0,\\\\\n",
    "                & & c_2  & &     &-& c_4  &=& 1, \\\\\n",
    "                & &      & & c_3 &+& bc_4 &=& 0,\n",
    "        \\end{array}\n",
    "    \\right.\n",
    "$$\n",
    "which we solve below using the ``SymPy`` library (see http://docs.sympy.org/latest/index.html for more info)."
   ]
  },
  {
   "cell_type": "code",
   "execution_count": 3,
   "metadata": {
    "collapsed": false
   },
   "outputs": [
    {
     "name": "stdout",
     "output_type": "stream",
     "text": [
      "{(a*(b - y)/(a - b), (-b + y)/(a - b), b*(a - y)/(a - b), (-a + y)/(a - b))}\n"
     ]
    }
   ],
   "source": [
    "import sympy as sp #Similar to symbolic toolbox in Matlab\n",
    "\n",
    "a, b, x, y = sp.symbols('a, b, x, y')\n",
    "c1, c2, c3, c4 = sp.symbols('c1, c2, c3, c4')\n",
    "\n",
    "A = sp.Matrix(([1, a, 0, 0],[1, y, -1, -y],[0,1,0,-1],[0,0,1,b]))\n",
    "\n",
    "data = sp.Matrix([0,0,1,0])\n",
    "\n",
    "c = sp.linsolve((A, data), c1,c2,c3,c4)\n",
    "print c"
   ]
  },
  {
   "cell_type": "code",
   "execution_count": 4,
   "metadata": {
    "collapsed": false
   },
   "outputs": [
    {
     "name": "stdout",
     "output_type": "stream",
     "text": [
      "(a - x)*(b - y)/(a - b)\n",
      "(a - y)*(b - x)/(a - b)\n"
     ]
    }
   ],
   "source": [
    "print sp.simplify(a*(b - y)/(a - b) +  (-b + y)/(a - b)*x)\n",
    "\n",
    "print sp.simplify(b*(a - y)/(a - b) + (-a + y)/(a - b)* x)"
   ]
  },
  {
   "cell_type": "markdown",
   "metadata": {},
   "source": [
    "### The Green's function\n",
    "\n",
    "From the above computation, we see that\n",
    "$$\n",
    "    \\large G(x,y) = \\left\\{ \\begin{array}{rr}\n",
    "                                \\frac{1}{a-b}(a-x)(b-y), & x<y, \\\\\n",
    "                                \\frac{1}{a-b}(a-y)(b-x), & y\\leq x.\n",
    "                            \\end{array}\n",
    "                    \\right.\n",
    "$$\n",
    "\n",
    "We define this using the ``Piecewise`` function available in ``SymPy``. "
   ]
  },
  {
   "cell_type": "code",
   "execution_count": 33,
   "metadata": {
    "collapsed": false
   },
   "outputs": [],
   "source": [
    "G = sp.Piecewise(((a - x)*(b - y)/(a - b), x<y),\n",
    "                 ((a - y)*(b - x)/(a - b), y<=x))"
   ]
  },
  {
   "cell_type": "markdown",
   "metadata": {},
   "source": [
    "We ``lambdify`` this function so that we can easily evaluate it and make plots to check that everything is working for a more familiar case when $a=0$ and $b=1$."
   ]
  },
  {
   "cell_type": "code",
   "execution_count": 34,
   "metadata": {
    "collapsed": false
   },
   "outputs": [
    {
     "data": {
      "text/plain": [
       "[<matplotlib.lines.Line2D at 0xa8532b0>]"
      ]
     },
     "execution_count": 34,
     "metadata": {},
     "output_type": "execute_result"
    },
    {
     "data": {
      "image/png": "[encoded data removed]",
      "text/plain": [
       "<matplotlib.figure.Figure at 0x9078860>"
      ]
     },
     "metadata": {},
     "output_type": "display_data"
    },
    {
     "data": {
      "image/png": "[encoded data removed]",
      "text/plain": [
       "<matplotlib.figure.Figure at 0x9a11eb8>"
      ]
     },
     "metadata": {},
     "output_type": "display_data"
    },
    {
     "data": {
      "image/png": "[encoded data removed]",
      "text/plain": [
       "<matplotlib.figure.Figure at 0xa6d6a90>"
      ]
     },
     "metadata": {},
     "output_type": "display_data"
    }
   ],
   "source": [
    "from sympy.utilities.lambdify import lambdify\n",
    "\n",
    "G_eval = lambdify((a,b,x,y), G)\n",
    "x_mesh = np.linspace(0,1,21)\n",
    "\n",
    "y_pt1 = 0.2\n",
    "y_pt2 = 0.5\n",
    "y_pt3 = 0.9\n",
    "\n",
    "plt.figure(1)\n",
    "plt.plot(x_mesh,G_eval(0,1,x_mesh,y_pt1))\n",
    "plt.figure(2)\n",
    "plt.plot(x_mesh,G_eval(0,1,x_mesh,y_pt2))\n",
    "plt.figure(3)\n",
    "plt.plot(x_mesh,G_eval(0,1,x_mesh,y_pt3))"
   ]
  },
  {
   "cell_type": "markdown",
   "metadata": {},
   "source": [
    "#### Part (a):\n",
    "\n",
    "$f(x) = 1$ implies that\n",
    "$$\n",
    "u(x)=\\int_a^b G(x,y)\\, dy = \\int_a^x G(x,y)\\, dy + \\int_x^b G(x,y)\\, dy.\n",
    "$$"
   ]
  },
  {
   "cell_type": "code",
   "execution_count": 7,
   "metadata": {
    "collapsed": false
   },
   "outputs": [
    {
     "name": "stdout",
     "output_type": "stream",
     "text": [
      "Piecewise((b**2*(a - x)/(2*(a - b)), x < b), (b*(2*a - b)*(b - x)/(2*(a - b)), b <= x))\n",
      "Piecewise((x*(a - x)*(2*b - x)/(2*(a - b)), x < x), (x*(2*a - x)*(b - x)/(2*(a - b)), x <= x))\n",
      "Piecewise((a*(-a + 2*b)*(a - x)/(2*(a - b)), x < a), (a**2*(b - x)/(2*(a - b)), a <= x))\n"
     ]
    }
   ],
   "source": [
    "u1_form = sp.integrate(G, y)\n",
    "print sp.simplify(u1_form.subs(y,b))\n",
    "print sp.simplify(u1_form.subs(y,x))\n",
    "print sp.simplify(u1_form.subs(y,a))"
   ]
  },
  {
   "cell_type": "code",
   "execution_count": 8,
   "metadata": {
    "collapsed": false
   },
   "outputs": [
    {
     "name": "stdout",
     "output_type": "stream",
     "text": [
      "Solution to part (a): u(x) =  -(-a + x)*(-b + x)/2\n",
      "Check with a=0, b=1: u(x) =  -x*(x - 1)/2\n"
     ]
    }
   ],
   "source": [
    "upper = b**2*(a - x)/(2*(a - b)) - x*(a - x)*(2*b - x)/(2*(a - b))\n",
    "lower = x*(2*a - x)*(b - x)/(2*(a - b)) - a**2*(b - x)/(2*(a - b)) \n",
    "u1 = sp.factor(upper + lower)\n",
    "print \"Solution to part (a): u(x) = \", u1\n",
    "u1_fcn = lambdify((a,b), u1)\n",
    "print \"Check with a=0, b=1: u(x) = \", u1_fcn(0,1)"
   ]
  },
  {
   "cell_type": "markdown",
   "metadata": {},
   "source": [
    "#### Part (b):\n",
    "\n",
    "$f(x)=x$ implies that\n",
    "$$\n",
    "    u(x) = \\int_a^x G(x,y)y\\, dy + \\int_x^b G(x,y)y\\, dy.\n",
    "$$"
   ]
  },
  {
   "cell_type": "code",
   "execution_count": 9,
   "metadata": {
    "collapsed": false
   },
   "outputs": [
    {
     "name": "stdout",
     "output_type": "stream",
     "text": [
      "Piecewise((b**3*(a - x)/(6*(a - b)), x < b), (b**2*(3*a - 2*b)*(b - x)/(6*(a - b)), b <= x))\n",
      "Piecewise((x**2*(a - x)*(3*b - 2*x)/(6*(a - b)), x < x), (x**2*(3*a - 2*x)*(b - x)/(6*(a - b)), x <= x))\n",
      "Piecewise((a**2*(-2*a + 3*b)*(a - x)/(6*(a - b)), x < a), (a**3*(b - x)/(6*(a - b)), a <= x))\n"
     ]
    }
   ],
   "source": [
    "u2_form = sp.integrate(G*y, y)\n",
    "print sp.simplify(u2_form.subs(y,b))\n",
    "print sp.simplify(u2_form.subs(y,x))\n",
    "print sp.simplify(u2_form.subs(y,a))"
   ]
  },
  {
   "cell_type": "code",
   "execution_count": 10,
   "metadata": {
    "collapsed": false
   },
   "outputs": [
    {
     "name": "stdout",
     "output_type": "stream",
     "text": [
      "Solution to part (b): u(x) =  -(-a + x)*(-b + x)*(a + b + x)/6\n",
      "Check with a=0, b=1: u(x) =  x*(-x**2 + 1)/6\n"
     ]
    }
   ],
   "source": [
    "upper = b**3*(a - x)/(6*(a - b)) - x**2*(a - x)*(3*b - 2*x)/(6*(a - b))\n",
    "lower = x**2*(3*a - 2*x)*(b - x)/(6*(a - b)) - a**3*(b - x)/(6*(a - b)) \n",
    "u2 = sp.factor(upper+lower)\n",
    "print \"Solution to part (b): u(x) = \", u2\n",
    "u2_fcn = lambdify((a,b), u2)\n",
    "print \"Check with a=0, b=1: u(x) = \", u2_fcn(0,1).simplify()"
   ]
  },
  {
   "cell_type": "markdown",
   "metadata": {},
   "source": [
    "#### Part (c): Skipped."
   ]
  },
  {
   "cell_type": "code",
   "execution_count": null,
   "metadata": {
    "collapsed": true
   },
   "outputs": [],
   "source": []
  },
  {
   "cell_type": "markdown",
   "metadata": {},
   "source": [
    "Green's function for $-u''+u = f(x)$?"
   ]
  },
  {
   "cell_type": "code",
   "execution_count": 48,
   "metadata": {
    "collapsed": false
   },
   "outputs": [
    {
     "name": "stdout",
     "output_type": "stream",
     "text": [
      "{((exp(2*y) - exp(2))*exp(y)/(-exp(4*y) + 2*exp(3*y)*sinh(y) - exp(2*y) + 2*exp(y + 2)*sinh(y) + exp(2*y + 2) + exp(2)), -(exp(2*y) - exp(2))*exp(y)/(-exp(4*y) + 2*exp(3*y)*sinh(y) - exp(2*y) + 2*exp(y + 2)*sinh(y) + exp(2*y + 2) + exp(2)), 2*exp(2*y + 2)*sinh(y)/(-exp(4*y) + 2*exp(3*y)*sinh(y) - exp(2*y) + 2*exp(y + 2)*sinh(y) + exp(2*y + 2) + exp(2)), 2*exp(2*y)*sinh(y)/((exp(2*y) - 2*exp(y)*sinh(y) + 1)*exp(2*y) - (exp(2*y) + 2*exp(y)*sinh(y) + 1)*exp(2)))}\n"
     ]
    }
   ],
   "source": [
    "x, y = sp.symbols('x, y')\n",
    "c1, c2, c3, c4 = sp.symbols('c1, c2, c3, c4')\n",
    "\n",
    "A = sp.Matrix(([1, 1, 0, 0],[sp.exp(-y), sp.exp(y), -sp.exp(-y), -sp.exp(y)],\\\n",
    "               [sp.exp(-y), -sp.exp(y), -sp.exp(-y), sp.exp(y)],[0,0,sp.exp(-1),sp.exp(1)]))\n",
    "\n",
    "data = sp.Matrix([0,0,-1,0])\n",
    "\n",
    "c = sp.linsolve((A, data), c1,c2,c3,c4)\n",
    "print c"
   ]
  },
  {
   "cell_type": "code",
   "execution_count": 55,
   "metadata": {
    "collapsed": false
   },
   "outputs": [],
   "source": [
    "def c_1(y):\n",
    "    z = (np.exp(2*y) - np.exp(2))*np.exp(y)/(-np.exp(4*y) + 2*np.exp(3*y)*np.sinh(y) - \\\n",
    "                                          np.exp(2*y) + 2*np.exp(y + 2)*np.sinh(y) + \\\n",
    "                                          np.exp(2*y + 2) + np.exp(2))\n",
    "    return z\n",
    "\n",
    "def c_2(y):\n",
    "    z = -(np.exp(2*y) - np.exp(2))*np.exp(y)/(-np.exp(4*y) + 2*np.exp(3*y)*np.sinh(y) - \\\n",
    "                                           np.exp(2*y) + 2*np.exp(y + 2)*np.sinh(y) + \\\n",
    "                                           np.exp(2*y + 2) + np.exp(2))\n",
    "    return z\n",
    "\n",
    "def c_3(y):\n",
    "    z = 2*np.exp(2*y + 2)*np.sinh(y)/(-np.exp(4*y) + 2*np.exp(3*y)*np.sinh(y) - np.exp(2*y) + \\\n",
    "                                   2*np.exp(y + 2)*np.sinh(y) + np.exp(2*y + 2) + np.exp(2))\n",
    "    return z\n",
    "\n",
    "def c_4(y):\n",
    "    z = 2*np.exp(2*y)*np.sinh(y)/((np.exp(2*y) - 2*np.exp(y)*np.sinh(y) + 1)*np.exp(2*y) - \\\n",
    "                               (np.exp(2*y) + 2*np.exp(y)*np.sinh(y) + 1)*np.exp(2))\n",
    "    return z\n",
    "\n",
    "G = sp.Piecewise((c1*sp.exp(-x)+c2*sp.exp(x), x<y),\n",
    "                 (c3*sp.exp(-x)+c4*sp.exp(x), y<=x))"
   ]
  },
  {
   "cell_type": "code",
   "execution_count": 59,
   "metadata": {
    "collapsed": false
   },
   "outputs": [
    {
     "data": {
      "text/plain": [
       "[<matplotlib.lines.Line2D at 0xa42de10>]"
      ]
     },
     "execution_count": 59,
     "metadata": {},
     "output_type": "execute_result"
    },
    {
     "data": {
      "image/png": "[encoded data removed]",
      "text/plain": [
       "<matplotlib.figure.Figure at 0xaeff208>"
      ]
     },
     "metadata": {},
     "output_type": "display_data"
    },
    {
     "data": {
      "image/png": "[encoded data removed]",
      "text/plain": [
       "<matplotlib.figure.Figure at 0xa562a58>"
      ]
     },
     "metadata": {},
     "output_type": "display_data"
    },
    {
     "data": {
      "image/png": "[encoded data removed]",
      "text/plain": [
       "<matplotlib.figure.Figure at 0xafe1b70>"
      ]
     },
     "metadata": {},
     "output_type": "display_data"
    }
   ],
   "source": [
    "G_eval = lambdify((c1,c2,c3,c4,x,y), G)\n",
    "x_mesh = np.linspace(0,1,21)\n",
    "\n",
    "y_pt1 = 0.2\n",
    "y_pt2 = 0.5\n",
    "y_pt3 = 0.9\n",
    "\n",
    "G_plot = 0*x_mesh\n",
    "\n",
    "plt.figure(1)\n",
    "for i in xrange(0,21):\n",
    "    G_plot[i] = G_eval(c_1(y_pt1),c_2(y_pt1),c_3(y_pt1),c_4(y_pt1),x_mesh[i],y_pt1)   \n",
    "plt.plot(x_mesh,G_plot)\n",
    "\n",
    "plt.figure(2)\n",
    "for i in xrange(0,21):\n",
    "    G_plot[i] = G_eval(c_1(y_pt2),c_2(y_pt2),c_3(y_pt2),c_4(y_pt2),x_mesh[i],y_pt2)   \n",
    "plt.plot(x_mesh,G_plot)\n",
    "\n",
    "plt.figure(3)\n",
    "for i in xrange(0,21):\n",
    "    G_plot[i] = G_eval(c_1(y_pt3),c_2(y_pt3),c_3(y_pt3),c_4(y_pt3),x_mesh[i],y_pt3)   \n",
    "plt.plot(x_mesh,G_plot)"
   ]
  },
  {
   "cell_type": "code",
   "execution_count": 60,
   "metadata": {
    "collapsed": true
   },
   "outputs": [],
   "source": [
    "G = sp.Piecewise((1/sp.sin(1) * sp.sin(x) * sp.sin(1-y), x<y),\n",
    "                 (1/sp.sin(1) * sp.sin(y) * sp.sin(1-x), y<=x))"
   ]
  },
  {
   "cell_type": "code",
   "execution_count": 62,
   "metadata": {
    "collapsed": false
   },
   "outputs": [
    {
     "data": {
      "text/plain": [
       "[<matplotlib.lines.Line2D at 0x92e0240>]"
      ]
     },
     "execution_count": 62,
     "metadata": {},
     "output_type": "execute_result"
    },
    {
     "data": {
      "image/png": "[encoded data removed]",
      "text/plain": [
       "<matplotlib.figure.Figure at 0xa557c18>"
      ]
     },
     "metadata": {},
     "output_type": "display_data"
    },
    {
     "data": {
      "image/png": "[encoded data removed]",
      "text/plain": [
       "<matplotlib.figure.Figure at 0xb5a6d68>"
      ]
     },
     "metadata": {},
     "output_type": "display_data"
    },
    {
     "data": {
      "image/png": "[encoded data removed]",
      "text/plain": [
       "<matplotlib.figure.Figure at 0xa56cb00>"
      ]
     },
     "metadata": {},
     "output_type": "display_data"
    }
   ],
   "source": [
    "G_eval = lambdify((x,y), G)\n",
    "x_mesh = np.linspace(0,1,21)\n",
    "\n",
    "y_pt1 = 0.2\n",
    "y_pt2 = 0.5\n",
    "y_pt3 = 0.9\n",
    "\n",
    "\n",
    "G_plot = 0*x_mesh\n",
    "\n",
    "plt.figure(1)\n",
    "for i in xrange(0,21):\n",
    "    G_plot[i] = G_eval(x_mesh[i],y_pt1)   \n",
    "plt.plot(x_mesh,G_plot)\n",
    "\n",
    "plt.figure(2)\n",
    "for i in xrange(0,21):\n",
    "    G_plot[i] = G_eval(x_mesh[i],y_pt2)   \n",
    "plt.plot(x_mesh,G_plot)\n",
    "\n",
    "plt.figure(3)\n",
    "for i in xrange(0,21):\n",
    "    G_plot[i] = G_eval(x_mesh[i],y_pt3)   \n",
    "plt.plot(x_mesh,G_plot)"
   ]
  },
  {
   "cell_type": "code",
   "execution_count": null,
   "metadata": {
    "collapsed": true
   },
   "outputs": [],
   "source": []
  }
 ],
 "metadata": {
  "anaconda-cloud": {},
  "kernelspec": {
   "display_name": "Python 2",
   "language": "python",
   "name": "python2"
  },
  "language_info": {
   "codemirror_mode": {
    "name": "ipython",
    "version": 2
   },
   "file_extension": ".py",
   "mimetype": "text/x-python",
   "name": "python",
   "nbconvert_exporter": "python",
   "pygments_lexer": "ipython2",
   "version": "2.7.11"
  }
 },
 "nbformat": 4,
 "nbformat_minor": 0
}
