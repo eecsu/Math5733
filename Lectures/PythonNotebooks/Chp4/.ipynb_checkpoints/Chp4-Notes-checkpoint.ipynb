{
 "cells": [
  {
   "cell_type": "code",
   "execution_count": 2,
   "metadata": {
    "collapsed": true
   },
   "outputs": [],
   "source": [
    "import numpy as np\n",
    "%matplotlib inline\n",
    "import matplotlib.pyplot as plt"
   ]
  },
  {
   "cell_type": "markdown",
   "metadata": {},
   "source": [
    "# Chapter 4: Finite Difference Methods for the Heat Equation\n",
    "\n",
    "While the previous chapter focused on analytical approaches based on Fourier series for solving the heat equation, these methods can not be applied in many other settings. \n",
    "For example, we either cannot apply, or it is far more complex to apply these analytical approaches for\n",
    "\n",
    "- nonlinear problems\n",
    "\n",
    "- problems with variable coefficients\n",
    "\n",
    "Even if we were able to apply the Fourier methods, the integrals that arise in determining the Fourier coefficients may be so complex that we resort to numerical integration, which introduces error to an otherwise \"exact\" solution.\n",
    "Moreover, we will almost always truncate the Fourier series in practice, which also introduces error.\n",
    "\n",
    "As soon as errors are introduced, we might as well use numerical methods that are, hopefully, more flexibly applied to a broader class of problems even if other difficulties may arise."
   ]
  },
  {
   "cell_type": "markdown",
   "metadata": {},
   "source": [
    "## Section 4.1: An Explicit Scheme\n",
    "\n",
    "Here, I deviate slightly from the description in the book.\n",
    "\n",
    "First, we apply the \"standard\" finite difference scheme in space. \n",
    "That is to say, we first discretize $[0,1]$ with $n+2$ evenly spaced points\n",
    "$$\n",
    "    x_j = j\\Delta x, \\ j=0,1,\\ldots,n+1,\n",
    "$$\n",
    "where\n",
    "$$\n",
    "    \\Delta x = \\frac{1}{n+1} = h.\n",
    "$$\n",
    "Then, we approximate $u_{xx}$ by the finite difference scheme\n",
    "$$\n",
    "    u_xx(x_j,t) = \\frac{u(x_{j-1},t)-2u(x_j,t)+u(x_{j+1},t)}{\\Delta x^2} + O(\\Delta x^2).\n",
    "$$\n",
    "Substitution of this into the heat equation gives\n",
    "$$\n",
    "    u_t(x_j,t) = \\frac{u(x_{j-1},t)-2u(x_j,t)+u(x_{j+1},t)}{\\Delta x^2} + O(\\Delta x^2).\n",
    "$$\n",
    "Dropping the $O(\\Delta x^2)$ gives us the so-called method-of-lines discretization, which is a *semidiscrete* approximation in the sense that we have discretized space but not time.\n",
    "Notice that the above equation defines a ***first-order system of ordinary differential equations*** of dimension $n$ (since we have Dirichlet conditions).\n",
    "\n",
    "If we then use a finite difference scheme to approximate $u_t(x_j,t)$, then we arrive at a *fully discrete* approximation.\n",
    "The choice of finite difference scheme we use to approximate $u_t$ is typically tied to a particular numerical method for solving ODEs based on the perspective of a method-of-lines discretization.\n",
    "In particular, a one-sided difference that approximates $u_t$ will generally either give the forward or backward Euler methods. \n",
    "Here, we use the forward Euler method since it gives an ***explicit*** method, which means it is easy to implement but is otherwise pretty awful. \n",
    "In particular, we consider uniform time steps of length $\\Delta t$ so that \n",
    "$$\n",
    "    t_m = m\\Delta t\n",
    "$$\n",
    "and\n",
    "$$\n",
    "    u_t(x_j,t_{m}) = \\frac{u_t(x_j,t_{m+1})-u_t(x_j,t_m)}{\\Delta t} + O(\\Delta t).\n",
    "$$\n",
    "If we plug this into the method-of-lines discretization above, drop the $O(\\Delta t)$ and $O(\\Delta x^2)$ terms, and let $v_j^m$ denote the resulting approximation to $u(x_j,t_m)$, then we arrive at the equation in the text\n",
    "$$\n",
    "    \\frac{v_j^{m+1}-v_j^m}{\\Delta t} = \\frac{v_{j-1}^m - 2v_j^m+v_{j+1}^m}{\\Delta x^2}, \\ j=1,\\ldots, n, \\ m\\geq 0,\n",
    "$$\n",
    "where \n",
    "$$\n",
    "    v_j^0 = f(x_j), \\ j=1,\\ldots, n.\n",
    "$$\n",
    "The scheme can be rewritten as\n",
    "$$\n",
    "    v_j^{m+1} = rv_{j-1}^m + (1-2r)v_j^m + rv_{j+1}^m, \\ j=1,\\ldots, n, \\ m\\geq 0,\n",
    "$$\n",
    "where $r=\\Delta t/\\Delta x^2$.\n",
    "In this form, it should be pretty clear why we call this scheme ***explicit*** since computing the approximation at time $t_{m+1}$ only uses information available at time $t_m$."
   ]
  },
  {
   "cell_type": "code",
   "execution_count": 5,
   "metadata": {
    "collapsed": false
   },
   "outputs": [
    {
     "data": {
      "text/plain": [
       "<matplotlib.collections.PathCollection at 0x82a63c8>"
      ]
     },
     "execution_count": 5,
     "metadata": {},
     "output_type": "execute_result"
    },
    {
     "data": {
      "image/png": "[encoded data removed]",
      "text/plain": [
       "<matplotlib.figure.Figure at 0x815e1d0>"
      ]
     },
     "metadata": {},
     "output_type": "display_data"
    }
   ],
   "source": [
    "# Example 4.1\n",
    "\n",
    "def f(x):\n",
    "    return np.sin(2*np.pi*x)\n",
    "\n",
    "def u_exact(x,t):\n",
    "    return np.exp(-4*np.pi**2*t)*np.sin(2*np.pi*x)\n",
    "\n",
    "n = 5\n",
    "x = np.linspace(0,1,n+2)\n",
    "dx = x[1]-x[0]\n",
    "\n",
    "dt = 1./80\n",
    "\n",
    "r = dt/dx**2\n",
    "\n",
    "v = f(x)\n",
    "v[0]=0\n",
    "v[-1]=0\n",
    "\n",
    "for i in xrange(1,8):\n",
    "    v[1:-1] = r*v[0:-2] + (1-2*r)*v[1:-1] + r*v[2:]\n",
    "\n",
    "plt.scatter(x,u_exact(x,dt*i))\n",
    "plt.scatter(x,v)"
   ]
  },
  {
   "cell_type": "code",
   "execution_count": 6,
   "metadata": {
    "collapsed": false
   },
   "outputs": [
    {
     "data": {
      "text/plain": [
       "<matplotlib.collections.PathCollection at 0x831f4a8>"
      ]
     },
     "execution_count": 6,
     "metadata": {},
     "output_type": "execute_result"
    },
    {
     "data": {
      "image/png": "[encoded data removed]",
      "text/plain": [
       "<matplotlib.figure.Figure at 0x805f160>"
      ]
     },
     "metadata": {},
     "output_type": "display_data"
    }
   ],
   "source": [
    "n = 19\n",
    "x = np.linspace(0,1,n+2)\n",
    "dx = x[1]-x[0]\n",
    "\n",
    "dt = 1./800\n",
    "\n",
    "r = dt/dx**2\n",
    "\n",
    "v = f(x)\n",
    "v[0]=0\n",
    "v[-1]=0\n",
    "\n",
    "for i in xrange(1,8):\n",
    "    v[1:-1] = r*v[0:-2] + (1-2*r)*v[1:-1] + r*v[2:]\n",
    "\n",
    "plt.scatter(x,u_exact(x,dt*i))\n",
    "plt.scatter(x,v)"
   ]
  },
  {
   "cell_type": "code",
   "execution_count": 22,
   "metadata": {
    "collapsed": false
   },
   "outputs": [
    {
     "data": {
      "text/plain": [
       "<matplotlib.collections.PathCollection at 0xa6fdcf8>"
      ]
     },
     "execution_count": 22,
     "metadata": {},
     "output_type": "execute_result"
    },
    {
     "data": {
      "image/png": "[encoded data removed]",
      "text/plain": [
       "<matplotlib.figure.Figure at 0xa567eb8>"
      ]
     },
     "metadata": {},
     "output_type": "display_data"
    }
   ],
   "source": [
    "# Try setting n = 19, 39, 59, etc and keeping dt fixed\n",
    "# Also try running more time steps\n",
    "\n",
    "n = 19\n",
    "x = np.linspace(0,1,n+2)\n",
    "dx = x[1]-x[0]\n",
    "\n",
    "dt = 1./80\n",
    "\n",
    "r = dt/dx**2\n",
    "\n",
    "v = f(x)\n",
    "v[0]=0\n",
    "v[-1]=0\n",
    "\n",
    "for i in xrange(1,8):\n",
    "    v[1:-1] = r*v[0:-2] + (1-2*r)*v[1:-1] + r*v[2:]\n",
    "\n",
    "plt.scatter(x,u_exact(x,dt*i))\n",
    "plt.scatter(x,v)"
   ]
  },
  {
   "cell_type": "markdown",
   "metadata": {},
   "source": [
    "## Section 4.2: Fourier Analysis of the Numerical Solution\n",
    "\n",
    "Here, we try to make sense of why oscillations start to appear in the numerical solution when the ratio $r=\\Delta t/(\\Delta x)^2$ starts to get large.\n",
    "\n",
    "The take home message is that we require\n",
    "$$\n",
    "    r \\leq \\frac{1}{2}\n",
    "$$\n",
    "in order to ensure ***stability*** in the numerical solution.\n",
    "Prior to establishing stability, it makes no sense to ask questions about accuracy.\n",
    "\n",
    "While the analysis of Section 4.2.1 may seem quite technical in the text, it is simply following the procedure of separating variables established in Section 3.1 and then using results from Chapter 2 to obtain ***particular solutions*** of the form given in (4.13) for the fully discrete problem.\n",
    "It is then established that the solution $v$ to the discrete problem is really just some linear combination of these particular solutions much like we found that solutions to the continuous heat equation could be written in terms of a linear combination of the particular solutions.\n",
    "Whereas before we had to find so-called Fourier coefficients, we now must find a generalized form of these denoted by $\\{\\gamma_k\\}$, which are computed by (4.15) (which you should compare with (4.20)).\n",
    "\n",
    "The comparison of the discrete and continuous solutions reveal even closer similarities when we compare (4.19) to (4.21) in Section 4.2.2.\n",
    "We compare errors only at the discrete space-time points where $v$ is defined, so we evaluate $u$ at these points and come to the conclusion that the approximation of $v$ to $u$ is good if the tail end of the sum shown in (4.23) is close to 0. \n",
    "\n",
    "\n"
   ]
  }
 ],
 "metadata": {
  "kernelspec": {
   "display_name": "Python 2",
   "language": "python",
   "name": "python2"
  },
  "language_info": {
   "codemirror_mode": {
    "name": "ipython",
    "version": 2
   },
   "file_extension": ".py",
   "mimetype": "text/x-python",
   "name": "python",
   "nbconvert_exporter": "python",
   "pygments_lexer": "ipython2",
   "version": "2.7.13"
  }
 },
 "nbformat": 4,
 "nbformat_minor": 2
}
