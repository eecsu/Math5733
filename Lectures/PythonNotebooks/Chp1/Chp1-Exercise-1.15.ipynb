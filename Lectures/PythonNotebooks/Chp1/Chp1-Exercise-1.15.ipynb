{
 "cells": [
  {
   "cell_type": "markdown",
   "metadata": {},
   "source": [
    "# Exercise 1.15\n",
    "\n",
    "Here, we perform a theoretical analysis of the numerical experiments reported in Table 1.1. \n",
    "There, the forward Euler method was applied to the IVP (1.18), and the experiments indicated that the error $E(\\Delta t)$ at $t=1$ satisfies\n",
    "$$\n",
    "    \\large E(\\Delta t)\\approx 1.359\\Delta t\n",
    "$$"
   ]
  },
  {
   "cell_type": "markdown",
   "metadata": {},
   "source": [
    "## Part (a)\n",
    "Let $0\\leq (m+1)\\Delta t\\leq T$ and $u(t)$ be the solution of (1.18). \n",
    "Show that if $t_m=m\\Delta t$, then\n",
    "$$\n",
    "    \\large \\frac{u(t_{m+1})-u(t_m)}{\\Delta t} = u(t_m) + \\tau_m,\n",
    "$$\n",
    "where the truncation error $\\tau_m$ satisfies\n",
    "$$\n",
    "    \\large |\\tau_m| \\leq \\frac{\\Delta t}{2} e^T, \\ \\text{ for } \\ 0\\leq (m+1)\\delta t\\leq T.\n",
    "$$"
   ]
  },
  {
   "cell_type": "markdown",
   "metadata": {},
   "source": [
    "***Proof of (a)***\n",
    "\n",
    "Assume $u$ solves (1.18), then using the notation above and substituting $t=t_m$ into (1.14), we have\n",
    "\n",
    "$$\n",
    "    \\large u'(t_m) = \\frac{u(t_{m+1}) - u(t_m)}{\\Delta t} + R.\n",
    "$$\n",
    "\n",
    "Here, $R$ is some remainder term (a truncation error) that is $O(\\Delta t)$.\n",
    "\n",
    "Now, since $u$ solves (1.18), it follows that $u'(t_m)=u(t_m)$, so we can rewrite the above as\n",
    "\n",
    "$$\n",
    "    \\large  \\frac{u(t_{m+1}) - u(t_m)}{\\Delta t} = u(t_m) + \\tau_m,\n",
    "$$\n",
    "\n",
    "where we have identified $\\tau_m=-R$. \n",
    "We now show that $\\tau_m$ satisfies the inequality in the problem.\n",
    "\n",
    "From (1.13), we see that \n",
    "\n",
    "$$\n",
    "    \\large \\tau_m = \\frac{1}{2}(\\Delta t) u''(c)\n",
    "$$\n",
    "\n",
    "where $c\\in(t_m,t_{m+1})$ is given by the mean value theorem for derivatives.\n",
    "Now, again, since $u$ solves (1.18), we have that $u(c)=e^c$ and $u''(c)=e^c$, so \n",
    "$$\n",
    "    \\large \\tau_m = \\frac{\\Delta t}{2}e^c.\n",
    "$$\n",
    "\n",
    "Since $e^t$ is a monotonically increasing function, we have that $e^c\\leq e^T$, which finishes the proof. $\\Box$\n"
   ]
  },
  {
   "cell_type": "markdown",
   "metadata": {},
   "source": [
    "## Part (b)\n",
    "Assume that $\\{v_m\\}$ is the corresponding forward Euler solution given by \n",
    "$$\n",
    "    \\large v_{m+1} = (1+\\Delta t)v_m, \\ v_0=1, \n",
    "$$\n",
    "and let $w_m = u_m-v_m$ be the error at time $t_m=m\\Delta t$. \n",
    "Explain why $\\{w_m\\}$ satisfies the difference equation\n",
    "$$\n",
    "    \\large w_{m+1}=(1+\\Delta t)w_m + \\Delta t \\tau_m, w_0=0. \n",
    "$$"
   ]
  },
  {
   "cell_type": "markdown",
   "metadata": {},
   "source": [
    "***Solution to (b)***\n",
    "\n",
    "From (a), we see that \n",
    "$$\n",
    "    \\large u_{m+1} = u_m + \\Delta t u_m + \\Delta t \\tau_m = (1+\\Delta t)u_m + \\Delta t\\tau_m.\n",
    "$$\n",
    "So,\n",
    "$$\n",
    "    \\large w_{m+1}=u_{m+1}-v_{m+1} = (1+\\Delta t)u_m + \\Delta t \\tau_m - (1+\\Delta t)v_m. \n",
    "$$\n",
    "By factoring, we have that\n",
    "$$\n",
    "    \\large w_{m+1} = (1+\\Delta t)w_m + \\Delta t \\tau_m. \n",
    "$$\n",
    "\n",
    "Since $u_0 = 1 = v_0$, we clearly have $w_0=0$. $\\Box$"
   ]
  },
  {
   "cell_type": "markdown",
   "metadata": {},
   "source": [
    "## Part (c) \n",
    "Use induction on $m$ to prove that \n",
    "$$\n",
    "    \\large |w_m| \\leq \\frac{\\Delta t}{2}e^T(e^{t_m}-1), \\ \\text{ for } \\ 0\\leq t_m\\leq T.\n",
    "$$\n",
    "How does this result compare to what was obtained in Table 1.1?"
   ]
  },
  {
   "cell_type": "markdown",
   "metadata": {},
   "source": [
    "***Solution to (c)***\n",
    "\n",
    "It is helpful to write out the first few bounds before applying induction.\n",
    "\n",
    "For $m=1$, we have that \n",
    "\n",
    "$$\n",
    "    \\large |w_1| \\leq \\Delta t \\tau_1 \\leq \\frac{(\\Delta t)^2}{2} e^T\n",
    "$$\n",
    "\n",
    "so for $m=2$, we have that\n",
    "\n",
    "$$\n",
    "    \\large |w_2| \\leq (1+\\Delta t) \\frac{(\\Delta t)^2}{2} e^T + \\frac{(\\Delta t)^2}{2} e^T.\n",
    "$$\n",
    "\n",
    "Then, for $m=3$, we have that\n",
    "\n",
    "$$\n",
    "    \\large |w_3| \\leq (1+\\Delta t)^2 \\frac{(\\Delta t)^2}{2} e^T + (1+\\Delta t)\\frac{(\\Delta t)^2}{2} e^T + \\frac{(\\Delta t)^2}{2} e^T.\n",
    "$$\n",
    "\n",
    "We then see from induction that\n",
    "\n",
    "$$\n",
    "    \\large |w_m| \\leq \\frac{(\\Delta t)^2}{2} e^T \\sum_{i=0}^{m-1} (1+\\Delta t)^i.\n",
    "$$\n",
    "\n",
    "The sum is a partial sum of a geometric series, which can easily be calculated to show that\n",
    "\n",
    "$$\n",
    "    \\large |w_m| \\leq \\frac{(\\Delta t)^2}{2} e^T \\left[\\frac{(1+\\Delta t)^m - 1}{\\Delta t}\\right], \n",
    "$$\n",
    "\n",
    "which gives\n",
    "\n",
    "$$\n",
    "    \\large |w_m| \\leq \\frac{\\Delta t}{2} e^T \\left[(1+\\Delta t)^m - 1\\right].\n",
    "$$\n",
    "\n",
    "The desired result is obtained by using the inequality $1+\\Delta t\\leq e^{\\Delta t}$ and observing that $(e^{\\Delta t})^m = e^{m\\Delta t} = e^{t_m}$. \n",
    "\n",
    "We numerically investigate this result and how it compares to Table 1.1 in the code cell below."
   ]
  },
  {
   "cell_type": "code",
   "execution_count": 3,
   "metadata": {
    "collapsed": false
   },
   "outputs": [
    {
     "name": "stdout",
     "output_type": "stream",
     "text": [
      "[  2.33538714e-01   2.33538714e-02   2.33538714e-03   2.33538714e-04\n",
      "   2.33538714e-05   2.33538714e-06]\n"
     ]
    }
   ],
   "source": [
    "import numpy as np\n",
    "\n",
    "Delta_t = np.array([1./10, 1./10**2, 1./10**3, 1./10**4, 1./10**5, 1./10**6])\n",
    "\n",
    "w_bound = Delta_t/2*np.exp(1)*(np.exp(1)-1)\n",
    "print w_bound"
   ]
  },
  {
   "cell_type": "markdown",
   "metadata": {},
   "source": [
    "We see that the error bound is the same order magnitude as the actual error and decreases in a similar way, but is consistently about twice as much as the actual error. "
   ]
  },
  {
   "cell_type": "code",
   "execution_count": null,
   "metadata": {
    "collapsed": true
   },
   "outputs": [],
   "source": []
  }
 ],
 "metadata": {
  "anaconda-cloud": {},
  "kernelspec": {
   "display_name": "Python 2",
   "language": "python",
   "name": "python2"
  },
  "language_info": {
   "codemirror_mode": {
    "name": "ipython",
    "version": 2
   },
   "file_extension": ".py",
   "mimetype": "text/x-python",
   "name": "python",
   "nbconvert_exporter": "python",
   "pygments_lexer": "ipython2",
   "version": "2.7.11"
  }
 },
 "nbformat": 4,
 "nbformat_minor": 1
}
